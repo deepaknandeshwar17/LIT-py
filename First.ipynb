{
 "cells": [
  {
   "cell_type": "code",
   "execution_count": 5,
   "metadata": {},
   "outputs": [
    {
     "name": "stdout",
     "output_type": "stream",
     "text": [
      "hi/2/3/4/True\n"
     ]
    }
   ],
   "source": [
    "# Seperator\n",
    "\n",
    "print(\"hi\", 2,3,4,True, sep='/')"
   ]
  },
  {
   "cell_type": "code",
   "execution_count": null,
   "metadata": {},
   "outputs": [
    {
     "name": "stdout",
     "output_type": "stream",
     "text": [
      "Goku = Vegita\n"
     ]
    }
   ],
   "source": [
    "# ending \n",
    "\n",
    "print(\"Goku \", end='=')\n",
    "print(\" Vegita\")"
   ]
  },
  {
   "cell_type": "markdown",
   "metadata": {},
   "source": [
    "# ***Lists***\n",
    "---"
   ]
  },
  {
   "cell_type": "code",
   "execution_count": null,
   "metadata": {},
   "outputs": [
    {
     "name": "stdout",
     "output_type": "stream",
     "text": [
      "['HI', 1, 3.4, True]\n"
     ]
    }
   ],
   "source": [
    "# List - Ordered, Mutable, Heterogeneous, Allow duplicate, Contain elements of different Data Types\n",
    "\n",
    "L = [\"HI\", 1,3.4,True]\n",
    "print(L)"
   ]
  },
  {
   "cell_type": "code",
   "execution_count": 12,
   "metadata": {},
   "outputs": [],
   "source": [
    "# Using square brackets\n",
    "my_list = [1, 2, 3, 4]\n",
    "\n",
    "# Using list() constructor\n",
    "another_list = list((5, 6, 7))\n",
    "\n",
    "# Empty list\n",
    "empty_list = []"
   ]
  },
  {
   "cell_type": "code",
   "execution_count": null,
   "metadata": {},
   "outputs": [
    {
     "name": "stdout",
     "output_type": "stream",
     "text": [
      "10\n",
      "30\n",
      "[15, 30]\n",
      "True\n",
      "[1, 2, 3, 4, 5, 6]\n",
      "[1, 2, 3, 1, 2, 3]\n"
     ]
    }
   ],
   "source": [
    "# Basic Operations\n",
    "\n",
    "\n",
    "my_list = [10, 20, 30]\n",
    "\n",
    "# Adding elements\n",
    "my_list.append(40)          # Adds to the end\n",
    "my_list.insert(1, 15)       # Inserts 15 at index 1\n",
    "\n",
    "# Removing elements\n",
    "my_list.remove(20)          # Removes the first occurrence of 20\n",
    "popped = my_list.pop()      # Removes and returns the last element\n",
    "\n",
    "# Accessing elements\n",
    "print(my_list[0])           # Access first element\n",
    "print(my_list[-1])          # Access last element\n",
    "\n",
    "# Slicing\n",
    "print(my_list[1:3])         # Prints elements from index 1 to 2\n",
    "\n",
    "# Checking membership\n",
    "print(30 in my_list)        # True\n",
    "\n",
    "# List Operations\n",
    "a = [1, 2, 3]\n",
    "b = [4, 5, 6]\n",
    "print(a + b)                # [1, 2, 3, 4, 5, 6] (Concatenation)\n",
    "print(a * 2)                # [1, 2, 3, 1, 2, 3] (Repetition)\n"
   ]
  },
  {
   "cell_type": "code",
   "execution_count": 16,
   "metadata": {},
   "outputs": [
    {
     "name": "stdout",
     "output_type": "stream",
     "text": [
      "[0, 1, 4, 9, 16]   [0, 2, 4, 6, 8]\n"
     ]
    }
   ],
   "source": [
    "# List Comprehensions\n",
    "\n",
    "\n",
    "# Example: Create a list of squares\n",
    "squares = [x ** 2 for x in range(5)]  # [0, 1, 4, 9, 16]\n",
    "\n",
    "# Example: Create a list of even numbers\n",
    "evens = [x for x in range(10) if x % 2 == 0]  # [0, 2, 4, 6, 8]\n",
    "\n",
    "print(squares,\" \", evens)"
   ]
  },
  {
   "cell_type": "code",
   "execution_count": 19,
   "metadata": {},
   "outputs": [
    {
     "name": "stdout",
     "output_type": "stream",
     "text": [
      "[1, 2, 3]\n",
      "6\n"
     ]
    }
   ],
   "source": [
    "#  Nested Lists\n",
    "\n",
    "\n",
    "matrix = [\n",
    "    [1, 2, 3],\n",
    "    [4, 5, 6],\n",
    "    [7, 8, 9]\n",
    "]\n",
    "\n",
    "# Accessing elements in nested lists\n",
    "print(matrix[0])      # [1, 2, 3]\n",
    "print(matrix[1][2])   # 6 (row 1, column 2)"
   ]
  },
  {
   "cell_type": "code",
   "execution_count": 21,
   "metadata": {},
   "outputs": [
    {
     "name": "stdout",
     "output_type": "stream",
     "text": [
      "2\n",
      "4\n"
     ]
    }
   ],
   "source": [
    "# Built-in List Methods\n",
    "\n",
    "my_list = [3, 1, 4, 1, 5, 9]\n",
    "\n",
    "# Sorting a list\n",
    "my_list.sort()         # Sorts in ascending order\n",
    "my_list.sort(reverse=True)  # Sorts in descending order\n",
    "\n",
    "# Reversing a list\n",
    "my_list.reverse()      # Reverses the list in-place\n",
    "\n",
    "# Counting occurrences of an element\n",
    "print(my_list.count(1))  # 2\n",
    "\n",
    "# Finding the index of an element\n",
    "print(my_list.index(5))  # 4 (first occurrence)\n",
    "\n",
    "# Extending a list with another iterable\n",
    "my_list.extend([2, 7])  # Adds 2 and 7 to the end of the list\n",
    "\n",
    "# Copying a list\n",
    "new_list = my_list.copy()  # Shallow copy\n",
    "\n",
    "# Clearing a list\n",
    "my_list.clear()  # Empties the list\n"
   ]
  },
  {
   "cell_type": "code",
   "execution_count": 29,
   "metadata": {},
   "outputs": [
    {
     "name": "stdout",
     "output_type": "stream",
     "text": [
      "10, 20, 30, \n",
      "Index 0: 10\n",
      "Index 1: 20\n",
      "Index 2: 30\n"
     ]
    }
   ],
   "source": [
    "# List Iteration\n",
    "\n",
    "my_list = [10, 20, 30]\n",
    "\n",
    "# Iterating using a for loop\n",
    "for item in my_list:\n",
    "    print(item, end=', ')\n",
    "\n",
    "print()\n",
    "\n",
    "# Enumerating a list with indices\n",
    "for index, value in enumerate(my_list):\n",
    "    print(f\"Index {index}: {value}\")\n"
   ]
  },
  {
   "cell_type": "code",
   "execution_count": 35,
   "metadata": {},
   "outputs": [
    {
     "name": "stdout",
     "output_type": "stream",
     "text": [
      "1 2 3\n",
      "1 [2, 3, 4] 5\n"
     ]
    }
   ],
   "source": [
    "# Unpacking List\n",
    "\n",
    "my_list = [1, 2, 3]\n",
    "a, b, c = my_list\n",
    "print(a, b, c)  # 1 2 3\n",
    "\n",
    "# Using * to capture remaining elements\n",
    "numbers = [1, 2, 3, 4, 5]\n",
    "first, *middle, last = numbers\n",
    "print(first, middle, last)  # 1 [2, 3, 4] 5"
   ]
  },
  {
   "cell_type": "code",
   "execution_count": 36,
   "metadata": {},
   "outputs": [],
   "source": [
    "# Filter and Mapping\n",
    "\n",
    "# Filter: Keep only even numbers\n",
    "nums = [1, 2, 3, 4, 5]\n",
    "evens = list(filter(lambda x: x % 2 == 0, nums))  # [2, 4]\n",
    "\n",
    "# Map: Square all numbers\n",
    "squared = list(map(lambda x: x ** 2, nums))  # [1, 4, 9, 16, 25]"
   ]
  },
  {
   "cell_type": "code",
   "execution_count": 37,
   "metadata": {},
   "outputs": [
    {
     "name": "stdout",
     "output_type": "stream",
     "text": [
      "[('Alice', 25), ('Bob', 30), ('Charlie', 35)]\n"
     ]
    }
   ],
   "source": [
    "# Zip - To combine multiple maps\n",
    "\n",
    "names = [\"Alice\", \"Bob\", \"Charlie\"]\n",
    "ages = [25, 30, 35]\n",
    "\n",
    "combined = list(zip(names, ages))\n",
    "print(combined)  # [('Alice', 25), ('Bob', 30), ('Charlie', 35)]\n"
   ]
  },
  {
   "cell_type": "code",
   "execution_count": 41,
   "metadata": {},
   "outputs": [
    {
     "name": "stdout",
     "output_type": "stream",
     "text": [
      "['banana', 'cherry', 'appleeee']\n"
     ]
    }
   ],
   "source": [
    "# Sorting with Custom Key\n",
    "\n",
    "# Sorting by length of strings\n",
    "words = [\"appleeee\", \"banana\", \"cherry\"]\n",
    "words.sort(key=len)\n",
    "print(words)  # ['apple', 'cherry', 'banana']"
   ]
  },
  {
   "cell_type": "code",
   "execution_count": 43,
   "metadata": {},
   "outputs": [
    {
     "name": "stdout",
     "output_type": "stream",
     "text": [
      "[[1, 2], [3, 4]]\n",
      "[[1, 2], [3, 4]]\n"
     ]
    }
   ],
   "source": [
    "# Shallow Copy and Deep Copy\n",
    "\n",
    "import copy\n",
    "\n",
    "# Shallow copy\n",
    "original = [[1, 2], [3, 4]]\n",
    "shallow_copy = original.copy()\n",
    "print(shallow_copy)\n",
    "\n",
    "# Deep copy\n",
    "deep_copy = copy.deepcopy(original)\n",
    "print(deep_copy)"
   ]
  },
  {
   "cell_type": "code",
   "execution_count": 44,
   "metadata": {},
   "outputs": [
    {
     "name": "stdout",
     "output_type": "stream",
     "text": [
      "[1, 2, 3, 4, 5, 6]\n"
     ]
    }
   ],
   "source": [
    "# Flattening nested List\n",
    "\n",
    "nested = [[1, 2], [3, 4], [5, 6]]\n",
    "flat = [item for sublist in nested for item in sublist]\n",
    "print(flat)  # [1, 2, 3, 4, 5, 6]"
   ]
  },
  {
   "cell_type": "code",
   "execution_count": 47,
   "metadata": {},
   "outputs": [
    {
     "data": {
      "text/plain": [
       "list"
      ]
     },
     "execution_count": 47,
     "metadata": {},
     "output_type": "execute_result"
    }
   ],
   "source": [
    "# Remove Duplicates\n",
    "\n",
    "nums = [1, 2, 2, 3, 4, 4]\n",
    "unique_nums = list(set(nums))  # [1, 2, 3, 4]\n",
    "unique_nums\n",
    "type(unique_nums)"
   ]
  },
  {
   "cell_type": "markdown",
   "metadata": {},
   "source": [
    "# ***Tuples***\n",
    "---"
   ]
  },
  {
   "cell_type": "code",
   "execution_count": null,
   "metadata": {},
   "outputs": [
    {
     "name": "stdout",
     "output_type": "stream",
     "text": [
      "(1, 2, 3, 4, 'l')\n"
     ]
    }
   ],
   "source": [
    "# Tuple - ordered, Heterogeneous, Immutable,Allow Duplicate, more efficient interms of memory and performance\n",
    "# Immutability: Ensures data integrity when you don’t want the collection to change.\n",
    "# Hashability: Tuples can serve as keys in dictionaries or elements in sets.\n",
    "# Performance: Faster to create and access compared to lists.\n",
    "\n",
    "T = (1,2,3,4,\"l\")\n",
    "print(T)"
   ]
  },
  {
   "cell_type": "code",
   "execution_count": null,
   "metadata": {},
   "outputs": [],
   "source": [
    "# Using parentheses\n",
    "my_tuple = (1, 2, 3)\n",
    "\n",
    "# Without parentheses (implicit tuple creation)\n",
    "another_tuple = 4, 5, 6\n",
    "\n",
    "# Single-element tuple (comma is required)\n",
    "single_element = (7,)  # Note the trailing comma\n",
    "\n",
    "# Empty tuple\n",
    "empty_tuple = ()"
   ]
  },
  {
   "cell_type": "code",
   "execution_count": 49,
   "metadata": {},
   "outputs": [
    {
     "name": "stdout",
     "output_type": "stream",
     "text": [
      "10\n",
      "30\n",
      "(20, 30)\n",
      "True\n",
      "2\n",
      "1\n"
     ]
    }
   ],
   "source": [
    "# Basic operations in tuple\n",
    "\n",
    "my_tuple = (10, 20, 30)\n",
    "\n",
    "# Accessing elements\n",
    "print(my_tuple[0])    # 10 (first element)\n",
    "print(my_tuple[-1])   # 30 (last element)\n",
    "\n",
    "# Slicing\n",
    "print(my_tuple[1:3])  # (20, 30)\n",
    "\n",
    "# Concatenation and repetition\n",
    "new_tuple = my_tuple + (40, 50)  # (10, 20, 30, 40, 50)\n",
    "repeated_tuple = my_tuple * 2    # (10, 20, 30, 10, 20, 30)\n",
    "\n",
    "# Checking membership\n",
    "print(20 in my_tuple)  # True\n",
    "\n",
    "my_tuple = (1, 2, 2, 3)\n",
    "\n",
    "# Counting occurrences of an element\n",
    "print(my_tuple.count(2))  # 2\n",
    "\n",
    "# Finding the index of an element\n",
    "print(my_tuple.index(2))  # 1 (first occurrence)\n"
   ]
  },
  {
   "cell_type": "code",
   "execution_count": 50,
   "metadata": {},
   "outputs": [
    {
     "name": "stdout",
     "output_type": "stream",
     "text": [
      "Alice 25 Engineer\n",
      "1 [2, 3, 4] 5\n"
     ]
    }
   ],
   "source": [
    "# tuple Unpacking\n",
    "\n",
    "person = (\"Alice\", 25, \"Engineer\")\n",
    "name, age, profession = person\n",
    "print(name, age, profession)  # Alice 25 Engineer\n",
    "\n",
    "# Using * to capture remaining elements\n",
    "numbers = (1, 2, 3, 4, 5)\n",
    "first, *middle, last = numbers\n",
    "print(first, middle, last)  # 1 [2, 3, 4] 5"
   ]
  },
  {
   "cell_type": "code",
   "execution_count": 51,
   "metadata": {},
   "outputs": [
    {
     "name": "stdout",
     "output_type": "stream",
     "text": [
      "Point A\n"
     ]
    }
   ],
   "source": [
    "# Tuple as keys in dictionaries\n",
    "\n",
    "coordinates = {(10, 20): \"Point A\", (30, 40): \"Point B\"}\n",
    "print(coordinates[(10, 20)])  # Point A"
   ]
  },
  {
   "cell_type": "code",
   "execution_count": 55,
   "metadata": {},
   "outputs": [
    {
     "name": "stdout",
     "output_type": "stream",
     "text": [
      "(0, 1, 4, 9, 16)\n"
     ]
    }
   ],
   "source": [
    "# Tuple Comprehensions(they do not support so we have to create a generator)\n",
    "\n",
    "# Example: Create a generator for squares\n",
    "squares = (x ** 2 for x in range(5))\n",
    "print(tuple(squares))  "
   ]
  },
  {
   "cell_type": "code",
   "execution_count": 56,
   "metadata": {},
   "outputs": [
    {
     "name": "stdout",
     "output_type": "stream",
     "text": [
      "(1, 2)\n",
      "4\n"
     ]
    }
   ],
   "source": [
    "# Nested Tuple\n",
    "\n",
    "nested_tuple = ((1, 2), (3, 4), (5, 6))\n",
    "\n",
    "# Accessing elements\n",
    "print(nested_tuple[0])      # (1, 2)\n",
    "print(nested_tuple[1][1])   # 4"
   ]
  },
  {
   "cell_type": "markdown",
   "metadata": {},
   "source": [
    "# ***Sets***\n",
    "---"
   ]
  },
  {
   "cell_type": "code",
   "execution_count": 57,
   "metadata": {},
   "outputs": [],
   "source": [
    "# Sets - Unorderd, Unique, Mutable\n",
    "\n",
    "\n",
    "# Using curly braces\n",
    "my_set = {1, 2, 3, 4}\n",
    "\n",
    "# Using set() constructor\n",
    "another_set = set([3, 4, 5, 6])\n",
    "\n",
    "# Empty set (must use set() constructor)\n",
    "empty_set = set()\n"
   ]
  },
  {
   "cell_type": "code",
   "execution_count": 58,
   "metadata": {},
   "outputs": [
    {
     "name": "stdout",
     "output_type": "stream",
     "text": [
      "True\n",
      "{1, 2, 3, 4, 5}\n",
      "{3}\n",
      "{1, 2}\n"
     ]
    }
   ],
   "source": [
    "# Basic Operations\n",
    "\n",
    "my_set = {1, 2, 3}\n",
    "\n",
    "# Adding an element\n",
    "my_set.add(4)\n",
    "\n",
    "# Removing an element\n",
    "my_set.remove(3)  # Raises KeyError if not found\n",
    "my_set.discard(5)  # Does not raise an error if not found\n",
    "\n",
    "# Checking membership\n",
    "print(2 in my_set)  # True\n",
    "\n",
    "# Set Operations\n",
    "a = {1, 2, 3}\n",
    "b = {3, 4, 5}\n",
    "print(a.union(b))        # {1, 2, 3, 4, 5}\n",
    "print(a.intersection(b)) # {3}\n",
    "print(a.difference(b))   # {1, 2}"
   ]
  },
  {
   "cell_type": "code",
   "execution_count": 59,
   "metadata": {},
   "outputs": [
    {
     "name": "stdout",
     "output_type": "stream",
     "text": [
      "True\n",
      "True\n",
      "True\n",
      "1 {2, 3, 4, 5}\n",
      "set()\n"
     ]
    }
   ],
   "source": [
    "# Set Methods\n",
    "\n",
    "my_set = {1, 2, 3, 4, 5}\n",
    "\n",
    "# Copying a set\n",
    "new_set = my_set.copy()\n",
    "\n",
    "# Checking if one set is a subset or superset of another\n",
    "subset = {1, 2}\n",
    "print(subset.issubset(my_set))  # True\n",
    "print(my_set.issuperset(subset))  # True\n",
    "\n",
    "# Checking for disjoint sets (no common elements)\n",
    "other_set = {6, 7}\n",
    "print(my_set.isdisjoint(other_set))  # True\n",
    "\n",
    "# Removing and returning an arbitrary element\n",
    "random_element = my_set.pop()\n",
    "print(random_element, my_set)\n",
    "\n",
    "# Clearing all elements from the set\n",
    "my_set.clear()\n",
    "print(my_set)  # set()"
   ]
  },
  {
   "cell_type": "code",
   "execution_count": 60,
   "metadata": {},
   "outputs": [
    {
     "name": "stdout",
     "output_type": "stream",
     "text": [
      "{1, 2, 3, 4, 5}\n",
      "{1, 2, 3, 4, 5}\n",
      "{3}\n",
      "{3}\n",
      "{1, 2}\n",
      "{1, 2}\n",
      "{1, 2, 4, 5}\n",
      "{1, 2, 4, 5}\n"
     ]
    }
   ],
   "source": [
    "# Set Operations\n",
    "\n",
    "a = {1, 2, 3}\n",
    "b = {3, 4, 5}\n",
    "\n",
    "# Union (elements in either set)\n",
    "print(a | b)  # {1, 2, 3, 4, 5}\n",
    "print(a.union(b))  # {1, 2, 3, 4, 5}\n",
    "\n",
    "# Intersection (elements common to both sets)\n",
    "print(a & b)  # {3}\n",
    "print(a.intersection(b))  # {3}\n",
    "\n",
    "# Difference (elements in `a` but not in `b`)\n",
    "print(a - b)  # {1, 2}\n",
    "print(a.difference(b))  # {1, 2}\n",
    "\n",
    "# Symmetric Difference (elements in either `a` or `b` but not both)\n",
    "print(a ^ b)  # {1, 2, 4, 5}\n",
    "print(a.symmetric_difference(b))  # {1, 2, 4, 5}"
   ]
  },
  {
   "cell_type": "code",
   "execution_count": 61,
   "metadata": {},
   "outputs": [
    {
     "name": "stdout",
     "output_type": "stream",
     "text": [
      "{0, 1, 4, 9, 16}\n",
      "{'o', 'e'}\n"
     ]
    }
   ],
   "source": [
    "# Set Comprehension\n",
    "\n",
    "# Example: Create a set of squares\n",
    "squares = {x ** 2 for x in range(5)}\n",
    "print(squares)  # {0, 1, 4, 9, 16}\n",
    "\n",
    "# Example: Create a set of unique vowels in a string\n",
    "sentence = \"hello world\"\n",
    "vowels = {char for char in sentence if char in \"aeiou\"}\n",
    "print(vowels)  # {'e', 'o'}"
   ]
  },
  {
   "cell_type": "code",
   "execution_count": 62,
   "metadata": {},
   "outputs": [
    {
     "name": "stdout",
     "output_type": "stream",
     "text": [
      "frozenset({1, 2, 3})\n",
      "frozenset({2, 3})\n"
     ]
    }
   ],
   "source": [
    "# Frozen Set\n",
    "\n",
    "# Creating a frozenset\n",
    "immutable_set = frozenset([1, 2, 3])\n",
    "print(immutable_set)  # frozenset({1, 2, 3})\n",
    "\n",
    "# Operations with frozensets\n",
    "other_set = {2, 3, 4}\n",
    "print(immutable_set & other_set)  # frozenset({2, 3})"
   ]
  },
  {
   "cell_type": "code",
   "execution_count": 64,
   "metadata": {},
   "outputs": [
    {
     "name": "stdout",
     "output_type": "stream",
     "text": [
      "[1, 2, 3, 4, 5]\n",
      "10\n",
      "20\n",
      "30\n"
     ]
    }
   ],
   "source": [
    "# Removing and iterating in sets\n",
    "\n",
    "# Example: Remove duplicates from a list\n",
    "numbers = [1, 2, 2, 3, 4, 4, 5]\n",
    "unique_numbers = list(set(numbers))\n",
    "print(unique_numbers)  # [1, 2, 3, 4, 5] (order may vary)\n",
    "\n",
    "my_set = {10, 20, 30}\n",
    "for item in my_set:\n",
    "    print(item)\n"
   ]
  },
  {
   "cell_type": "markdown",
   "metadata": {},
   "source": [
    "# ***Dictionaries***\n",
    "---"
   ]
  },
  {
   "cell_type": "code",
   "execution_count": 70,
   "metadata": {},
   "outputs": [
    {
     "name": "stdout",
     "output_type": "stream",
     "text": [
      "{'name': 'Alice', 'age': 25, 'profession': 'Engineer'}\n",
      "{'name': {'dos', 'Bob'}, 'age': 30}\n",
      "{}\n"
     ]
    }
   ],
   "source": [
    "# Dictionaries - UnOrdered, Key-Value pair Storage, Mutable\n",
    "\n",
    "# Using curly braces\n",
    "my_dict = {\"name\": \"Alice\", \"age\": 25, \"profession\": \"Engineer\"}\n",
    "print(my_dict)\n",
    "\n",
    "# Using the dict() constructor\n",
    "another_dict = dict(name={\"Bob\",\"dos\"}, age=30)\n",
    "print(another_dict)\n",
    "\n",
    "# Empty dictionary\n",
    "empty_dict = {}\n",
    "print(empty_dict)"
   ]
  },
  {
   "cell_type": "code",
   "execution_count": 71,
   "metadata": {},
   "outputs": [
    {
     "name": "stdout",
     "output_type": "stream",
     "text": [
      "Alice\n",
      "Not specified\n",
      "Not found\n"
     ]
    }
   ],
   "source": [
    "# Accessing and modifying Dictionary date\n",
    "\n",
    "my_dict = {\"name\": \"Alice\", \"age\": 25}\n",
    "\n",
    "# Accessing values\n",
    "print(my_dict[\"name\"])  # Alice\n",
    "\n",
    "# Using get() to avoid KeyError if the key doesn't exist\n",
    "print(my_dict.get(\"height\", \"Not specified\"))  # Not specified\n",
    "\n",
    "# Adding or updating key-value pairs\n",
    "my_dict[\"age\"] = 26       # Update age\n",
    "my_dict[\"city\"] = \"Paris\" # Add new key-value pair\n",
    "\n",
    "# Removing key-value pairs\n",
    "del my_dict[\"city\"]          # Remove using del\n",
    "my_dict.pop(\"age\")           # Remove and return value for key\n",
    "print(my_dict.pop(\"gender\", \"Not found\"))  # Avoid KeyError"
   ]
  },
  {
   "cell_type": "code",
   "execution_count": 72,
   "metadata": {},
   "outputs": [
    {
     "name": "stdout",
     "output_type": "stream",
     "text": [
      "dict_keys(['name', 'age', 'city'])\n",
      "dict_values(['Alice', 25, 'Paris'])\n",
      "dict_items([('name', 'Alice'), ('age', 25), ('city', 'Paris')])\n",
      "True\n",
      "{}\n"
     ]
    }
   ],
   "source": [
    "# Dictionaries Methods\n",
    "\n",
    "my_dict = {\"name\": \"Alice\", \"age\": 25, \"city\": \"Paris\"}\n",
    "\n",
    "# Keys, Values, and Items\n",
    "print(my_dict.keys())   # dict_keys(['name', 'age', 'city'])\n",
    "print(my_dict.values()) # dict_values(['Alice', 25, 'Paris'])\n",
    "print(my_dict.items())  # dict_items([('name', 'Alice'), ('age', 25), ('city', 'Paris')])\n",
    "\n",
    "# Checking existence of a key\n",
    "print(\"age\" in my_dict)  # True\n",
    "\n",
    "# Clearing the dictionary\n",
    "my_dict.clear()\n",
    "print(my_dict)  # {}\n"
   ]
  },
  {
   "cell_type": "code",
   "execution_count": 73,
   "metadata": {},
   "outputs": [
    {
     "name": "stdout",
     "output_type": "stream",
     "text": [
      "name Alice\n",
      "age 25\n",
      "name: Alice\n",
      "age: 25\n"
     ]
    }
   ],
   "source": [
    "# Iterate throw dictionary\n",
    "\n",
    "my_dict = {\"name\": \"Alice\", \"age\": 25}\n",
    "\n",
    "# Iterating through keys\n",
    "for key in my_dict:\n",
    "    print(key, my_dict[key])\n",
    "\n",
    "# Iterating through key-value pairs\n",
    "for key, value in my_dict.items():\n",
    "    print(f\"{key}: {value}\")"
   ]
  },
  {
   "cell_type": "code",
   "execution_count": 74,
   "metadata": {},
   "outputs": [
    {
     "name": "stdout",
     "output_type": "stream",
     "text": [
      "{0: 0, 1: 1, 2: 4, 3: 9, 4: 16}\n"
     ]
    }
   ],
   "source": [
    "# Dictionary Comprehension\n",
    "\n",
    "# Example: Create a dictionary of squares\n",
    "squares = {x: x**2 for x in range(5)}\n",
    "print(squares)  # {0: 0, 1: 1, 2: 4, 3: 9, 4: 16}\n"
   ]
  },
  {
   "cell_type": "code",
   "execution_count": 79,
   "metadata": {},
   "outputs": [
    {
     "name": "stdout",
     "output_type": "stream",
     "text": [
      "25\n"
     ]
    }
   ],
   "source": [
    "# Nested Dictionaries\n",
    "\n",
    "nested_dict = {\n",
    "    \"person1\": {\"name\": \"Alice\", \"age\": 25},\n",
    "    \"person2\": {\"name\": \"Bob\", \"age\": 30},\n",
    "}\n",
    "\n",
    "# Accessing nested dictionary elements\n",
    "print(nested_dict[\"person1\"][\"age\"])  # Alice"
   ]
  },
  {
   "cell_type": "code",
   "execution_count": 81,
   "metadata": {},
   "outputs": [
    {
     "name": "stdout",
     "output_type": "stream",
     "text": [
      "{'name': 'Alice', 'age': 25}\n",
      "{'name': 'Alice', 'age': 25}\n"
     ]
    }
   ],
   "source": [
    "# Merging Dictionaries\n",
    "\n",
    "dict1 = {\"name\": \"Alice\"}\n",
    "dict2 = {\"age\": 25}\n",
    "dict1.update(dict2)\n",
    "print(dict1)  # {'name': 'Alice', 'age': 25}\n",
    "\n",
    "merged_dict = dict1 | dict2\n",
    "print(merged_dict)  # {'name': 'Alice', 'age': 25}\n"
   ]
  },
  {
   "cell_type": "code",
   "execution_count": 85,
   "metadata": {},
   "outputs": [
    {
     "name": "stdout",
     "output_type": "stream",
     "text": [
      "Counter({'apple': 2, 'banana': 1, 'orange': 1})\n",
      "defaultdict(<class 'list'>, {'Alice': ['Math', 'History'], 'Bob': ['Science']})\n"
     ]
    }
   ],
   "source": [
    "# Examples of dictionaries\n",
    "\n",
    "from collections import Counter\n",
    "\n",
    "words = [\"apple\", \"banana\", \"apple\", \"orange\"]\n",
    "word_count = Counter(words)\n",
    "print(word_count)  # {'apple': 2, 'banana': 1, 'orange': 1}\n",
    "\n",
    "from collections import defaultdict\n",
    "\n",
    "data = [(\"Alice\", \"Math\"), (\"Bob\", \"Science\"), (\"Alice\", \"History\")]\n",
    "grouped = defaultdict(list)\n",
    "\n",
    "for name, subject in data:\n",
    "    grouped[name].append(subject)\n",
    "\n",
    "print(grouped)  # {'Alice': ['Math', 'History'], 'Bob': ['Science']}"
   ]
  },
  {
   "cell_type": "code",
   "execution_count": 87,
   "metadata": {},
   "outputs": [
    {
     "name": "stdout",
     "output_type": "stream",
     "text": [
      "1\n",
      "7\n",
      "6\n",
      "-6\n",
      "10\n",
      "2\n"
     ]
    }
   ],
   "source": [
    "#  BitWise Operators\n",
    "\n",
    "m = 5  # 101 in binary\n",
    "n = 3  # 011 in binary\n",
    "\n",
    "bitwise_and = m & n  # 001 (1 in decimal)\n",
    "print(bitwise_and)\n",
    "\n",
    "bitwise_or = m | n   # 111 (7 in decimal)\n",
    "print(bitwise_or)\n",
    "\n",
    "bitwise_xor = m ^ n  # 110 (6 in decimal)\n",
    "print(bitwise_xor)\n",
    "\n",
    "bitwise_not_m = ~m   # -6 (in decimal)\n",
    "print(bitwise_not_m)\n",
    "\n",
    "left_shift = m << 1  # 010 (2 in decimal)\n",
    "print(left_shift)\n",
    "\n",
    "right_shift = m >> 1 # 010 (2 in decimal)\n",
    "print(right_shift)"
   ]
  },
  {
   "cell_type": "markdown",
   "metadata": {},
   "source": [
    "# ***Functions***\n",
    "---"
   ]
  },
  {
   "cell_type": "code",
   "execution_count": 90,
   "metadata": {},
   "outputs": [
    {
     "name": "stdout",
     "output_type": "stream",
     "text": [
      "Name: Alice, Age: 25\n"
     ]
    }
   ],
   "source": [
    "# KeyWord Arguments \n",
    "\n",
    "def print_info(name, age):\n",
    "    print(f\"Name: {name}, Age: {age}\")\n",
    "\n",
    "# Using keyword arguments\n",
    "print_info(age=25, name=\"Alice\")\n"
   ]
  },
  {
   "cell_type": "code",
   "execution_count": 92,
   "metadata": {},
   "outputs": [
    {
     "name": "stdout",
     "output_type": "stream",
     "text": [
      "15\n",
      "name: Alice\n",
      "age: 25\n",
      "profession: Engineer\n"
     ]
    }
   ],
   "source": [
    "# Arbitary number of arguments(*args and **kwargs)\n",
    "\n",
    "def sum_numbers(*args):\n",
    "    return sum(args)\n",
    "\n",
    "result = sum_numbers(1, 2, 3, 4, 5)\n",
    "print(result)  # 15\n",
    "\n",
    "def print_details(**kwargs):\n",
    "    for key, value in kwargs.items():\n",
    "        print(f\"{key}: {value}\")\n",
    "\n",
    "print_details(name=\"Alice\", age=25, profession=\"Engineer\")"
   ]
  },
  {
   "cell_type": "code",
   "execution_count": 97,
   "metadata": {},
   "outputs": [
    {
     "name": "stdout",
     "output_type": "stream",
     "text": [
      "8\n",
      "[(5, 2), (2, 3), (4, 4)]\n"
     ]
    }
   ],
   "source": [
    "# Lambda function\n",
    "\n",
    "add = lambda a, b: a + b\n",
    "print(add(5, 3))  # 8\n",
    "\n",
    "numbers = [(5, 2), (4, 4), (2, 3)]\n",
    "# Sort by second element of tuple\n",
    "sorted_numbers = sorted(numbers, key=lambda x: x[1])\n",
    "print(sorted_numbers)  # [(1, 2), (2, 3), (3, 4)]"
   ]
  },
  {
   "cell_type": "code",
   "execution_count": 99,
   "metadata": {},
   "outputs": [
    {
     "name": "stdout",
     "output_type": "stream",
     "text": [
      "\n",
      "    This function greets the person passed as the name parameter.\n",
      "    \n",
      "    Parameters:\n",
      "    name (str): The name of the person to greet\n",
      "    \n",
      "    Returns:\n",
      "    None\n",
      "    \n",
      "Hello, Boss!\n",
      "None\n"
     ]
    }
   ],
   "source": [
    "def greet(name):\n",
    "    \"\"\"\n",
    "    This function greets the person passed as the name parameter.\n",
    "    \n",
    "    Parameters:\n",
    "    name (str): The name of the person to greet\n",
    "    \n",
    "    Returns:\n",
    "    None\n",
    "    \"\"\"\n",
    "    print(f\"Hello, {name}!\")\n",
    "\n",
    "# Accessing the docstring\n",
    "print(greet.__doc__)\n",
    "print(greet(\"Boss\"))\n"
   ]
  },
  {
   "cell_type": "code",
   "execution_count": null,
   "metadata": {},
   "outputs": [
    {
     "name": "stdout",
     "output_type": "stream",
     "text": [
      "Inside function, x = 5\n",
      "Outside function, x = 10\n",
      "- - - - - - - - - - - - - - - - - - - - - - - - - \n",
      "Inside function, x = 5\n",
      "Outside function, x = 5\n"
     ]
    }
   ],
   "source": [
    "\n",
    "x = 10  # Global variable\n",
    "\n",
    "def modify():\n",
    "    x = 5  # This will create a local variable 'x'\n",
    "    print(f\"Inside function, x = {x}\")\n",
    "\n",
    "modify()\n",
    "print(f\"Outside function, x = {x}\")\n",
    "\n",
    "n = 25\n",
    "# print(n*'-')\n",
    "for _ in range(n):\n",
    "    print('-', end = ' ')\n",
    "print()\n",
    "\n",
    "\n",
    "# Mutating Global variable using the globle keyword\n",
    "\n",
    "x = 10  # Global variable\n",
    "\n",
    "def modify():\n",
    "    global x  # This tells Python to use the global variable 'x'\n",
    "    x = 5  # This will modify the global 'x'\n",
    "    print(f\"Inside function, x = {x}\")\n",
    "\n",
    "modify()\n",
    "print(f\"Outside function, x = {x}\")"
   ]
  },
  {
   "cell_type": "markdown",
   "metadata": {},
   "source": [
    "# ***Arrays in Python***\n",
    "---"
   ]
  },
  {
   "cell_type": "code",
   "execution_count": 119,
   "metadata": {},
   "outputs": [
    {
     "name": "stdout",
     "output_type": "stream",
     "text": [
      "array('i', [1, 2, 3, 4, 5])\n",
      "1\n",
      "3\n",
      "array('i', [2, 3, 4])\n",
      "- - - - - - - - - - - - - - - - - - - - - - - - - \n",
      "array('i', [1, 2, 3, 4, 5, 6])\n",
      "array('i', [1, 2, 3, 4, 5, 6, 7, 8])\n",
      "- - - - - - - - - - - - - - - - - - - - - - - - - \n",
      "array('i', [1, 2, 4, 5, 6, 7, 8])\n",
      "array('i', [1, 2, 4, 6, 7, 8])\n",
      "- - - - - - - - - - - - - - - - - - - - - - - - - \n",
      "array('i', [10, 2, 4, 6, 7, 8])\n"
     ]
    }
   ],
   "source": [
    "import array\n",
    "\n",
    "# Create an array of integers\n",
    "arr = array.array('i', [1, 2, 3, 4, 5])\n",
    "print(arr)  # Output: array('i', [1, 2, 3, 4, 5])\n",
    "\n",
    "print(arr[0])  # Output: 1 (Accessing the first element)\n",
    "print(arr[2])  # Output: 3 (Accessing the third element)\n",
    "\n",
    "print(arr[1:4])  # Output: array('i', [2, 3, 4])\n",
    "\n",
    "n = 25\n",
    "for _ in range(n):\n",
    "    print(\"-\",end=' ')\n",
    "print()\n",
    "\n",
    "# Adding elements\n",
    "\n",
    "arr.append(6)\n",
    "print(arr)  # Output: array('i', [1, 2, 3, 4, 5, 6])\n",
    "\n",
    "arr.extend([7, 8])\n",
    "print(arr)  # Output: array('i', [1, 2, 3, 4, 5, 6, 7, 8])\n",
    "\n",
    "n = 25\n",
    "for _ in range(n):\n",
    "    print(\"-\", end=\" \")\n",
    "print()\n",
    "\n",
    "# Removing an element\n",
    "\n",
    "arr.pop(2)\n",
    "print(arr)  # Output: array('i', [1, 2, 4, 5, 6, 7, 8])\n",
    "\n",
    "arr.remove(5)\n",
    "print(arr)  # Output: array('i', [1, 2, 4, 6, 7, 8])\n",
    "\n",
    "n = 25\n",
    "print(\"- \"*n)\n",
    "\n",
    "# Modifying elements\n",
    "\n",
    "arr[0] = 10\n",
    "print(arr)  # Output: array('i', [10, 2, 4, 6, 7, 8])"
   ]
  },
  {
   "cell_type": "markdown",
   "metadata": {},
   "source": [
    "#  ***Object Oriented Programming***\n",
    "---"
   ]
  },
  {
   "cell_type": "code",
   "execution_count": 2,
   "metadata": {},
   "outputs": [
    {
     "name": "stdout",
     "output_type": "stream",
     "text": [
      "Hi, Tony stank your avrage score of three subjects is: 89.0\n"
     ]
    }
   ],
   "source": [
    "class Student:\n",
    "    def __init__(self, name, marks):\n",
    "        self.name = name \n",
    "        self.marks = marks\n",
    "\n",
    "    def avg_marks(self):\n",
    "        sum = 0\n",
    "        for val in self.marks:\n",
    "            sum = sum + val\n",
    "        print(f\"Hi, {self.name} your avrage score of three subjects is: {sum/3}\")\n",
    "\n",
    "s1 = Student(\"Tony stank\", [89,88,90])\n",
    "s1.avg_marks()"
   ]
  },
  {
   "cell_type": "code",
   "execution_count": 8,
   "metadata": {},
   "outputs": [
    {
     "name": "stdout",
     "output_type": "stream",
     "text": [
      "Rs. 20 was debited from your account\n",
      "Total Balance = 80\n",
      "- - - - - - - - - - - - - - - - - - - - - - - - - \n",
      "Rs. 50 has been Credited to your account\n",
      "Total Balance = 130\n",
      "- - - - - - - - - - - - - - - - - - - - - - - - - \n",
      "Rs. 100 was debited from your account\n",
      "Total Balance = 30\n"
     ]
    }
   ],
   "source": [
    "class Account:\n",
    "    def __init__(self,balance,accNo):\n",
    "        self.balance = balance\n",
    "        self.accNo = accNo\n",
    "\n",
    "    def debit(self, amount):\n",
    "        self.balance -= amount\n",
    "        print(f\"Rs. {amount} was debited from your account\")\n",
    "        print(f\"Total Balance = {self.get_balance()}\")\n",
    "\n",
    "    def credit(self,amount):\n",
    "        self.balance += amount\n",
    "        print(f\"Rs. {amount} has been Credited to your account\")\n",
    "        print(f\"Total Balance = {self.get_balance()}\")\n",
    "\n",
    "    def get_balance(self):\n",
    "        return self.balance\n",
    "    \n",
    "acc1 = Account(100,123)\n",
    "acc1.debit(20)\n",
    "\n",
    "n= 25\n",
    "for _ in range(n):\n",
    "    print(\"-\",end=\" \")\n",
    "print()\n",
    "\n",
    "acc1.credit(50)\n",
    "\n",
    "n=25\n",
    "print(\"- \"*n)\n",
    "\n",
    "acc1.debit(100)"
   ]
  },
  {
   "cell_type": "code",
   "execution_count": 1,
   "metadata": {},
   "outputs": [
    {
     "name": "stdout",
     "output_type": "stream",
     "text": [
      "Inner x: inner\n",
      "Outer x: inner\n"
     ]
    }
   ],
   "source": [
    "def outer_function():\n",
    "    x = \"Outer\"\n",
    "    def inner_function():\n",
    "        nonlocal x\n",
    "        x = \"inner\"\n",
    "        print(\"Inner x:\",x)\n",
    "    inner_function()\n",
    "    print(\"Outer x:\", x)\n",
    "\n",
    "outer_function()"
   ]
  }
 ],
 "metadata": {
  "kernelspec": {
   "display_name": "base",
   "language": "python",
   "name": "python3"
  },
  "language_info": {
   "codemirror_mode": {
    "name": "ipython",
    "version": 3
   },
   "file_extension": ".py",
   "mimetype": "text/x-python",
   "name": "python",
   "nbconvert_exporter": "python",
   "pygments_lexer": "ipython3",
   "version": "3.9.13"
  }
 },
 "nbformat": 4,
 "nbformat_minor": 2
}
