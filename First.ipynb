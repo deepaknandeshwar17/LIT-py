{
 "cells": [
  {
   "cell_type": "code",
   "execution_count": 5,
   "metadata": {},
   "outputs": [
    {
     "name": "stdout",
     "output_type": "stream",
     "text": [
      "hi/2/3/4/True\n"
     ]
    }
   ],
   "source": [
    "# Seperator\n",
    "\n",
    "print(\"hi\", 2,3,4,True, sep='/')"
   ]
  },
  {
   "cell_type": "code",
   "execution_count": null,
   "metadata": {},
   "outputs": [
    {
     "name": "stdout",
     "output_type": "stream",
     "text": [
      "Goku = Vegita\n"
     ]
    }
   ],
   "source": [
    "# ending \n",
    "\n",
    "print(\"Goku \", end='=')\n",
    "print(\" Vegita\")"
   ]
  },
  {
   "cell_type": "markdown",
   "metadata": {},
   "source": [
    "# ***Lists***\n",
    "---"
   ]
  },
  {
   "cell_type": "code",
   "execution_count": null,
   "metadata": {},
   "outputs": [
    {
     "name": "stdout",
     "output_type": "stream",
     "text": [
      "['HI', 1, 3.4, True]\n"
     ]
    }
   ],
   "source": [
    "# List - Ordered, Mutable, Contain elements of different Data Types\n",
    "\n",
    "L = [\"HI\", 1,3.4,True]\n",
    "print(L)"
   ]
  },
  {
   "cell_type": "code",
   "execution_count": 12,
   "metadata": {},
   "outputs": [],
   "source": [
    "# Using square brackets\n",
    "my_list = [1, 2, 3, 4]\n",
    "\n",
    "# Using list() constructor\n",
    "another_list = list((5, 6, 7))\n",
    "\n",
    "# Empty list\n",
    "empty_list = []"
   ]
  },
  {
   "cell_type": "code",
   "execution_count": null,
   "metadata": {},
   "outputs": [
    {
     "name": "stdout",
     "output_type": "stream",
     "text": [
      "10\n",
      "30\n",
      "[15, 30]\n",
      "True\n",
      "[1, 2, 3, 4, 5, 6]\n",
      "[1, 2, 3, 1, 2, 3]\n"
     ]
    }
   ],
   "source": [
    "# Basic Operations\n",
    "\n",
    "\n",
    "my_list = [10, 20, 30]\n",
    "\n",
    "# Adding elements\n",
    "my_list.append(40)          # Adds to the end\n",
    "my_list.insert(1, 15)       # Inserts 15 at index 1\n",
    "\n",
    "# Removing elements\n",
    "my_list.remove(20)          # Removes the first occurrence of 20\n",
    "popped = my_list.pop()      # Removes and returns the last element\n",
    "\n",
    "# Accessing elements\n",
    "print(my_list[0])           # Access first element\n",
    "print(my_list[-1])          # Access last element\n",
    "\n",
    "# Slicing\n",
    "print(my_list[1:3])         # Prints elements from index 1 to 2\n",
    "\n",
    "# Checking membership\n",
    "print(30 in my_list)        # True\n",
    "\n",
    "# List Operations\n",
    "a = [1, 2, 3]\n",
    "b = [4, 5, 6]\n",
    "print(a + b)                # [1, 2, 3, 4, 5, 6] (Concatenation)\n",
    "print(a * 2)                # [1, 2, 3, 1, 2, 3] (Repetition)\n"
   ]
  },
  {
   "cell_type": "code",
   "execution_count": 16,
   "metadata": {},
   "outputs": [
    {
     "name": "stdout",
     "output_type": "stream",
     "text": [
      "[0, 1, 4, 9, 16]   [0, 2, 4, 6, 8]\n"
     ]
    }
   ],
   "source": [
    "# List Comprehensions\n",
    "\n",
    "\n",
    "# Example: Create a list of squares\n",
    "squares = [x ** 2 for x in range(5)]  # [0, 1, 4, 9, 16]\n",
    "\n",
    "# Example: Create a list of even numbers\n",
    "evens = [x for x in range(10) if x % 2 == 0]  # [0, 2, 4, 6, 8]\n",
    "\n",
    "print(squares,\" \", evens)"
   ]
  },
  {
   "cell_type": "code",
   "execution_count": 19,
   "metadata": {},
   "outputs": [
    {
     "name": "stdout",
     "output_type": "stream",
     "text": [
      "[1, 2, 3]\n",
      "6\n"
     ]
    }
   ],
   "source": [
    "#  Nested Lists\n",
    "\n",
    "\n",
    "matrix = [\n",
    "    [1, 2, 3],\n",
    "    [4, 5, 6],\n",
    "    [7, 8, 9]\n",
    "]\n",
    "\n",
    "# Accessing elements in nested lists\n",
    "print(matrix[0])      # [1, 2, 3]\n",
    "print(matrix[1][2])   # 6 (row 1, column 2)"
   ]
  },
  {
   "cell_type": "code",
   "execution_count": 21,
   "metadata": {},
   "outputs": [
    {
     "name": "stdout",
     "output_type": "stream",
     "text": [
      "2\n",
      "4\n"
     ]
    }
   ],
   "source": [
    "# Built-in List Methods\n",
    "\n",
    "my_list = [3, 1, 4, 1, 5, 9]\n",
    "\n",
    "# Sorting a list\n",
    "my_list.sort()         # Sorts in ascending order\n",
    "my_list.sort(reverse=True)  # Sorts in descending order\n",
    "\n",
    "# Reversing a list\n",
    "my_list.reverse()      # Reverses the list in-place\n",
    "\n",
    "# Counting occurrences of an element\n",
    "print(my_list.count(1))  # 2\n",
    "\n",
    "# Finding the index of an element\n",
    "print(my_list.index(5))  # 4 (first occurrence)\n",
    "\n",
    "# Extending a list with another iterable\n",
    "my_list.extend([2, 7])  # Adds 2 and 7 to the end of the list\n",
    "\n",
    "# Copying a list\n",
    "new_list = my_list.copy()  # Shallow copy\n",
    "\n",
    "# Clearing a list\n",
    "my_list.clear()  # Empties the list\n"
   ]
  },
  {
   "cell_type": "code",
   "execution_count": 29,
   "metadata": {},
   "outputs": [
    {
     "name": "stdout",
     "output_type": "stream",
     "text": [
      "10, 20, 30, \n",
      "Index 0: 10\n",
      "Index 1: 20\n",
      "Index 2: 30\n"
     ]
    }
   ],
   "source": [
    "# List Iteration\n",
    "\n",
    "my_list = [10, 20, 30]\n",
    "\n",
    "# Iterating using a for loop\n",
    "for item in my_list:\n",
    "    print(item, end=', ')\n",
    "\n",
    "print()\n",
    "\n",
    "# Enumerating a list with indices\n",
    "for index, value in enumerate(my_list):\n",
    "    print(f\"Index {index}: {value}\")\n"
   ]
  },
  {
   "cell_type": "code",
   "execution_count": 35,
   "metadata": {},
   "outputs": [
    {
     "name": "stdout",
     "output_type": "stream",
     "text": [
      "1 2 3\n",
      "1 [2, 3, 4] 5\n"
     ]
    }
   ],
   "source": [
    "# Unpacking List\n",
    "\n",
    "my_list = [1, 2, 3]\n",
    "a, b, c = my_list\n",
    "print(a, b, c)  # 1 2 3\n",
    "\n",
    "# Using * to capture remaining elements\n",
    "numbers = [1, 2, 3, 4, 5]\n",
    "first, *middle, last = numbers\n",
    "print(first, middle, last)  # 1 [2, 3, 4] 5"
   ]
  },
  {
   "cell_type": "code",
   "execution_count": 36,
   "metadata": {},
   "outputs": [],
   "source": [
    "# Filter and Mapping\n",
    "\n",
    "# Filter: Keep only even numbers\n",
    "nums = [1, 2, 3, 4, 5]\n",
    "evens = list(filter(lambda x: x % 2 == 0, nums))  # [2, 4]\n",
    "\n",
    "# Map: Square all numbers\n",
    "squared = list(map(lambda x: x ** 2, nums))  # [1, 4, 9, 16, 25]"
   ]
  },
  {
   "cell_type": "code",
   "execution_count": 37,
   "metadata": {},
   "outputs": [
    {
     "name": "stdout",
     "output_type": "stream",
     "text": [
      "[('Alice', 25), ('Bob', 30), ('Charlie', 35)]\n"
     ]
    }
   ],
   "source": [
    "# Zip - To combine multiple maps\n",
    "\n",
    "names = [\"Alice\", \"Bob\", \"Charlie\"]\n",
    "ages = [25, 30, 35]\n",
    "\n",
    "combined = list(zip(names, ages))\n",
    "print(combined)  # [('Alice', 25), ('Bob', 30), ('Charlie', 35)]\n"
   ]
  },
  {
   "cell_type": "code",
   "execution_count": 41,
   "metadata": {},
   "outputs": [
    {
     "name": "stdout",
     "output_type": "stream",
     "text": [
      "['banana', 'cherry', 'appleeee']\n"
     ]
    }
   ],
   "source": [
    "# Sorting with Custom Key\n",
    "\n",
    "# Sorting by length of strings\n",
    "words = [\"appleeee\", \"banana\", \"cherry\"]\n",
    "words.sort(key=len)\n",
    "print(words)  # ['apple', 'cherry', 'banana']"
   ]
  },
  {
   "cell_type": "code",
   "execution_count": 43,
   "metadata": {},
   "outputs": [
    {
     "name": "stdout",
     "output_type": "stream",
     "text": [
      "[[1, 2], [3, 4]]\n",
      "[[1, 2], [3, 4]]\n"
     ]
    }
   ],
   "source": [
    "# Shallow Copy and Deep Copy\n",
    "\n",
    "import copy\n",
    "\n",
    "# Shallow copy\n",
    "original = [[1, 2], [3, 4]]\n",
    "shallow_copy = original.copy()\n",
    "print(shallow_copy)\n",
    "\n",
    "# Deep copy\n",
    "deep_copy = copy.deepcopy(original)\n",
    "print(deep_copy)"
   ]
  },
  {
   "cell_type": "code",
   "execution_count": 44,
   "metadata": {},
   "outputs": [
    {
     "name": "stdout",
     "output_type": "stream",
     "text": [
      "[1, 2, 3, 4, 5, 6]\n"
     ]
    }
   ],
   "source": [
    "# Flattening nested List\n",
    "\n",
    "nested = [[1, 2], [3, 4], [5, 6]]\n",
    "flat = [item for sublist in nested for item in sublist]\n",
    "print(flat)  # [1, 2, 3, 4, 5, 6]"
   ]
  },
  {
   "cell_type": "code",
   "execution_count": 47,
   "metadata": {},
   "outputs": [
    {
     "data": {
      "text/plain": [
       "list"
      ]
     },
     "execution_count": 47,
     "metadata": {},
     "output_type": "execute_result"
    }
   ],
   "source": [
    "# Remove Duplicates\n",
    "\n",
    "nums = [1, 2, 2, 3, 4, 4]\n",
    "unique_nums = list(set(nums))  # [1, 2, 3, 4]\n",
    "unique_nums\n",
    "type(unique_nums)"
   ]
  },
  {
   "cell_type": "markdown",
   "metadata": {},
   "source": [
    "# ***Tuples***\n",
    "---"
   ]
  },
  {
   "cell_type": "code",
   "execution_count": 20,
   "metadata": {},
   "outputs": [
    {
     "name": "stdout",
     "output_type": "stream",
     "text": [
      "(1, 2, 3, 4, 'l')\n"
     ]
    }
   ],
   "source": [
    "# Tuple - Immutable, more efficient interms of memory and performance\n",
    "\n",
    "T = (1,2,3,4,\"l\")\n",
    "print(T)"
   ]
  },
  {
   "cell_type": "code",
   "execution_count": null,
   "metadata": {},
   "outputs": [],
   "source": []
  }
 ],
 "metadata": {
  "kernelspec": {
   "display_name": "base",
   "language": "python",
   "name": "python3"
  },
  "language_info": {
   "codemirror_mode": {
    "name": "ipython",
    "version": 3
   },
   "file_extension": ".py",
   "mimetype": "text/x-python",
   "name": "python",
   "nbconvert_exporter": "python",
   "pygments_lexer": "ipython3",
   "version": "3.9.13"
  }
 },
 "nbformat": 4,
 "nbformat_minor": 2
}
